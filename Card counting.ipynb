{
 "cells": [
  {
   "cell_type": "markdown",
   "metadata": {},
   "source": [
    "## Implementation of Blackjack to simulate various card counting strategies ##"
   ]
  },
  {
   "cell_type": "code",
   "execution_count": 358,
   "metadata": {},
   "outputs": [],
   "source": [
    "import random\n",
    "from timeit import default_timer as timer\n",
    "import time"
   ]
  },
  {
   "cell_type": "markdown",
   "metadata": {},
   "source": [
    "### 1. Implementation of Blackjack game with parameters for various rulesets ###"
   ]
  },
  {
   "cell_type": "code",
   "execution_count": 322,
   "metadata": {},
   "outputs": [],
   "source": [
    "class Deck():\n",
    "    def __init__(self, num_of_decks=1):\n",
    "        self.deck = [i%52 for i in range(num_of_decks*52)]\n",
    "        self.discard_deck = []\n",
    "        \n",
    "    def shuffle(self):\n",
    "        random.shuffle(self.deck)\n",
    "    \n",
    "    def card_num_or_face(self, num):\n",
    "        num_or_face = {0: 'Ace', 1: '2', 2: '3', 3: '4', 4: '5', 5: '6', 6: '7', 7: '8',\n",
    "                       8: '9', 9: '10', 10: 'Jack', 11: 'Queen', 12: 'King'}\n",
    "        return num_or_face[num%13]\n",
    "    \n",
    "    def card_suit(self, num):  # Private methods\n",
    "        suits = {0: 'Hearts', 1: 'Diamonds', 2: 'Clubs', 3: 'Spades'}\n",
    "        return suits[num//13]\n",
    "    \n",
    "    def read_card(self, num):\n",
    "        return self.card_num_or_face(num) + ' of ' + self.card_suit(num)"
   ]
  },
  {
   "cell_type": "code",
   "execution_count": 367,
   "metadata": {},
   "outputs": [],
   "source": [
    "class Blackjack():\n",
    "    # Allow various ruleset implementations here\n",
    "    # -  allow 1 to 7 players\n",
    "    # - between 1 and 8 decks is standard practice\n",
    "    def __init__(self, num_of_decks=1, players=1, blackjack_payout=1.5, OTHER_RULESET_VARIABLES_HERE=0):\n",
    "        self.deck_obj = Deck(num_of_decks)\n",
    "        self.players = players\n",
    "        self.blackjack_payout = blackjack_payout\n",
    "        \n",
    "    def __repr__(self):\n",
    "        return ' '.join(map(str, self.deck_obj.deck))\n",
    "    \n",
    "    def shuffle(self, discard_top_card=True):\n",
    "        self.deck_obj.shuffle()  # Shuffle deck\n",
    "        if discard_top_card:  # Discard top card\n",
    "            self.deck_obj.discard_deck.append(self.deck_obj.deck.pop())\n",
    "        \n",
    "        \n",
    "    def display_deck(self):\n",
    "        for card in self.deck_obj.deck:\n",
    "            print(self.deck_obj.read_card(card))\n",
    "            \n",
    "    def next_card(self):\n",
    "        return self.deck_obj.deck.pop()\n",
    "    \n",
    "    def is_blackjack(self, card1, card2):\n",
    "        card1_value = card1%13\n",
    "        card2_value = card2%13\n",
    "        \n",
    "        # Ace = 0, 10-King = 9-12\n",
    "        if (card1_value == 0 and card2_value >= 9 and card2_value <= 12) or \\\n",
    "           (card2_value == 0 and card1_value >= 9 and card1_value <= 12):\n",
    "            return True\n",
    "        return False\n",
    "    \n",
    "    def get_player_value(self, player_hand, first_run=True):\n",
    "        if self.is_blackjack(player_hand[0], player_hand[1]):\n",
    "            return 'Blackjack'\n",
    "        \n",
    "        if first_run:\n",
    "            self.player_values = []  # store as list so can have multiple if soft values\n",
    "        \n",
    "        player_value = 0\n",
    "        for i, card in enumerate(player_hand):\n",
    "            card_value = card%13\n",
    "            if card_value == 0:  # Ace\n",
    "                new_hand_1 = player_hand.copy()\n",
    "                new_hand_2 = player_hand.copy()\n",
    "                \n",
    "                new_hand_1[i] = -1  # Ace as 1\n",
    "                new_hand_2[i] = -2  # Ace as 11\n",
    "                \n",
    "                self.get_player_value(new_hand_1, first_run=False)\n",
    "                self.get_player_value(new_hand_2, first_run=False)\n",
    "                \n",
    "                break\n",
    "            else:\n",
    "                if card == -1:  # Then this is soft 1 ace\n",
    "                    card_value = 1\n",
    "                elif card == -2:  # Then this is soft 11 ace\n",
    "                    card_value = 11\n",
    "                elif card_value >= 9:  # Then this is 10 or face card\n",
    "                    card_value = 10\n",
    "                else:  # Any other card increment by 1 for correct number\n",
    "                    card_value += 1\n",
    "                    \n",
    "                player_value += card_value\n",
    "        else:  # If there wasn't a 0 signifying un-declared Ace then append to list\n",
    "            self.player_values.append(player_value)\n",
    "            \n",
    "        if first_run:\n",
    "            # self.players_values = [value for value in self.player_values if value <=21]\n",
    "            return self.player_values\n",
    "        \n",
    "    def get_player_input(self, player, human_player=True):\n",
    "        if human_player:\n",
    "            value = input('Player {} what is is your move? (HIT, STAND, DD, SPLIT, SURR):  '.format(player)).upper()\n",
    "            print('You have chosen to {}'.format(value))\n",
    "\n",
    "            if 'HIT' in value:\n",
    "                return 0\n",
    "            elif 'STAND' in value:\n",
    "                return 1\n",
    "            elif 'DD' in value:\n",
    "                return 2\n",
    "            elif 'SPLIT' in value:\n",
    "                return 3\n",
    "            elif 'SURR' in value:\n",
    "                return 4\n",
    "            else:\n",
    "                print('Incorrect input. Please try again.')  \n",
    "        else:  # ADD MACHINE HERE LATER\n",
    "            raise ValueError('No computer player implemented')\n",
    "            \n",
    "    def play_hand(self, bet):\n",
    "        # 1. Bet amount is logged into private variable\n",
    "        self.__bet = bet\n",
    "        # 2. Dealer gives 1 card to player (each player if multiple)\n",
    "        self.player_hands = []\n",
    "        for player in range(self.players):\n",
    "            self.player_hands.append([self.next_card()])\n",
    "            \n",
    "        # 3. Dealer gives 1 card to themself face up\n",
    "        self.dealer_hand = []\n",
    "        self.dealer_hand.append(self.next_card())\n",
    "        \n",
    "        # 4. Dealer gives 2nd card to player (each player if multiple)\n",
    "        for i, player in enumerate(range(self.players)):\n",
    "            self.player_hands[i].append(self.next_card())\n",
    "        \n",
    "        # 5. Dealer gives 2nd card to themself: note should be face down so don't share [1] with players\n",
    "        self.dealer_hand.append(self.next_card())\n",
    "\n",
    "        # 6. Players are prompted on move\n",
    "        for i, player in enumerate(range(self.players)):\n",
    "            turn_complete = False\n",
    "            \n",
    "            while not turn_complete:\n",
    "                player_value = self.get_player_value(self.player_hands[i])\n",
    "                \n",
    "                print('Player {}: You have a {} and a {} {}'.format(str(i+1),\n",
    "                            self.deck_obj.read_card(self.player_hands[i][0]),\n",
    "                            self.deck_obj.read_card(self.player_hands[i][1]), player_value))\n",
    "                      \n",
    "                print('Dealer has a ' + self.deck_obj.read_card(self.dealer_hand[0]))\n",
    "                \n",
    "                if player_value == 'Blackjack':  # player has blackjack\n",
    "                    print('Blackjack!')\n",
    "                    turn_complete = True\n",
    "                elif min(player_value) > 21:  # player went bust\n",
    "                    print('You went bust :(')\n",
    "                    turn_complete = True\n",
    "                else:                    \n",
    "                    # Player action\n",
    "                    player_action = self.get_player_input(player=i+1)\n",
    "\n",
    "                    if player_action == 0:  # HIT\n",
    "                        self.player_hands[i].append(self.next_card())\n",
    "                        \n",
    "                    elif player_action == 1:  # STAND\n",
    "                        turn_complete = True\n",
    "                    elif player_action == 2:  # DOUBLE DOWN\n",
    "                        pass\n",
    "                    elif player_action == 3:  # SPLIT\n",
    "                        pass\n",
    "                    elif player_action == 4:  # SURRENDER\n",
    "                        pass\n",
    "                    else:\n",
    "                        print('Incorrect input. Please try again.')\n",
    "                        \n",
    "                \n",
    "            print('Player {} turn complete\\n'.format(i+1))\n",
    "            \n",
    "            time.sleep(1.5)\n",
    "        # Put all cards into discard deck\n",
    "        # Pay out odds/collect money\n",
    "        # Go next turn\n",
    "                        \n",
    "                # dealer goes and calculate dealer_value\n",
    "                # check player_value vs dealer_value\n",
    "\n",
    "                        \n",
    "                \n",
    "            \n",
    "                      \n",
    "        \n"
   ]
  },
  {
   "cell_type": "code",
   "execution_count": 368,
   "metadata": {},
   "outputs": [
    {
     "data": {
      "text/plain": [
       "0 1 2 3 4 5 6 7 8 9 10 11 12 13 14 15 16 17 18 19 20 21 22 23 24 25 26 27 28 29 30 31 32 33 34 35 36 37 38 39 40 41 42 43 44 45 46 47 48 49 50 51 0 1 2 3 4 5 6 7 8 9 10 11 12 13 14 15 16 17 18 19 20 21 22 23 24 25 26 27 28 29 30 31 32 33 34 35 36 37 38 39 40 41 42 43 44 45 46 47 48 49 50 51 0 1 2 3 4 5 6 7 8 9 10 11 12 13 14 15 16 17 18 19 20 21 22 23 24 25 26 27 28 29 30 31 32 33 34 35 36 37 38 39 40 41 42 43 44 45 46 47 48 49 50 51"
      ]
     },
     "execution_count": 368,
     "metadata": {},
     "output_type": "execute_result"
    }
   ],
   "source": [
    "blackjack = Blackjack(num_of_decks=3, players=10)\n",
    "blackjack\n"
   ]
  },
  {
   "cell_type": "code",
   "execution_count": 369,
   "metadata": {},
   "outputs": [
    {
     "data": {
      "text/plain": [
       "42 25 25 17 16 6 4 34 41 0 10 13 50 38 31 7 2 26 42 13 12 27 48 16 3 13 33 45 43 25 48 36 12 35 38 18 22 45 30 17 20 45 47 4 9 48 44 50 31 37 6 43 2 32 17 14 11 32 15 35 37 34 28 5 21 9 19 23 49 26 36 23 20 39 0 15 32 14 33 3 15 27 41 22 19 8 24 0 30 29 8 1 49 39 42 37 43 28 5 27 51 5 34 46 36 26 1 29 21 24 6 4 18 11 12 14 51 38 19 28 40 47 40 10 47 39 51 50 29 11 16 23 44 18 3 49 20 33 41 44 9 2 46 21 7 24 22 30 1 31 40 8 7 46 10"
      ]
     },
     "execution_count": 369,
     "metadata": {},
     "output_type": "execute_result"
    }
   ],
   "source": [
    "blackjack.shuffle()\n",
    "blackjack"
   ]
  },
  {
   "cell_type": "code",
   "execution_count": 370,
   "metadata": {},
   "outputs": [
    {
     "name": "stdout",
     "output_type": "stream",
     "text": [
      "Player 1: You have a Jack of Hearts and a 9 of Diamonds [19]\n",
      "Dealer has a 8 of Hearts\n"
     ]
    },
    {
     "ename": "KeyboardInterrupt",
     "evalue": "",
     "output_type": "error",
     "traceback": [
      "\u001b[0;31m---------------------------------------------------------------------------\u001b[0m",
      "\u001b[0;31mKeyboardInterrupt\u001b[0m                         Traceback (most recent call last)",
      "\u001b[0;32m/anaconda3/lib/python3.7/site-packages/ipykernel/kernelbase.py\u001b[0m in \u001b[0;36m_input_request\u001b[0;34m(self, prompt, ident, parent, password)\u001b[0m\n\u001b[1;32m    877\u001b[0m             \u001b[0;32mtry\u001b[0m\u001b[0;34m:\u001b[0m\u001b[0;34m\u001b[0m\u001b[0;34m\u001b[0m\u001b[0m\n\u001b[0;32m--> 878\u001b[0;31m                 \u001b[0mident\u001b[0m\u001b[0;34m,\u001b[0m \u001b[0mreply\u001b[0m \u001b[0;34m=\u001b[0m \u001b[0mself\u001b[0m\u001b[0;34m.\u001b[0m\u001b[0msession\u001b[0m\u001b[0;34m.\u001b[0m\u001b[0mrecv\u001b[0m\u001b[0;34m(\u001b[0m\u001b[0mself\u001b[0m\u001b[0;34m.\u001b[0m\u001b[0mstdin_socket\u001b[0m\u001b[0;34m,\u001b[0m \u001b[0;36m0\u001b[0m\u001b[0;34m)\u001b[0m\u001b[0;34m\u001b[0m\u001b[0;34m\u001b[0m\u001b[0m\n\u001b[0m\u001b[1;32m    879\u001b[0m             \u001b[0;32mexcept\u001b[0m \u001b[0mException\u001b[0m\u001b[0;34m:\u001b[0m\u001b[0;34m\u001b[0m\u001b[0;34m\u001b[0m\u001b[0m\n",
      "\u001b[0;32m/anaconda3/lib/python3.7/site-packages/jupyter_client/session.py\u001b[0m in \u001b[0;36mrecv\u001b[0;34m(self, socket, mode, content, copy)\u001b[0m\n\u001b[1;32m    802\u001b[0m         \u001b[0;32mtry\u001b[0m\u001b[0;34m:\u001b[0m\u001b[0;34m\u001b[0m\u001b[0;34m\u001b[0m\u001b[0m\n\u001b[0;32m--> 803\u001b[0;31m             \u001b[0mmsg_list\u001b[0m \u001b[0;34m=\u001b[0m \u001b[0msocket\u001b[0m\u001b[0;34m.\u001b[0m\u001b[0mrecv_multipart\u001b[0m\u001b[0;34m(\u001b[0m\u001b[0mmode\u001b[0m\u001b[0;34m,\u001b[0m \u001b[0mcopy\u001b[0m\u001b[0;34m=\u001b[0m\u001b[0mcopy\u001b[0m\u001b[0;34m)\u001b[0m\u001b[0;34m\u001b[0m\u001b[0;34m\u001b[0m\u001b[0m\n\u001b[0m\u001b[1;32m    804\u001b[0m         \u001b[0;32mexcept\u001b[0m \u001b[0mzmq\u001b[0m\u001b[0;34m.\u001b[0m\u001b[0mZMQError\u001b[0m \u001b[0;32mas\u001b[0m \u001b[0me\u001b[0m\u001b[0;34m:\u001b[0m\u001b[0;34m\u001b[0m\u001b[0;34m\u001b[0m\u001b[0m\n",
      "\u001b[0;32m/anaconda3/lib/python3.7/site-packages/zmq/sugar/socket.py\u001b[0m in \u001b[0;36mrecv_multipart\u001b[0;34m(self, flags, copy, track)\u001b[0m\n\u001b[1;32m    469\u001b[0m         \"\"\"\n\u001b[0;32m--> 470\u001b[0;31m         \u001b[0mparts\u001b[0m \u001b[0;34m=\u001b[0m \u001b[0;34m[\u001b[0m\u001b[0mself\u001b[0m\u001b[0;34m.\u001b[0m\u001b[0mrecv\u001b[0m\u001b[0;34m(\u001b[0m\u001b[0mflags\u001b[0m\u001b[0;34m,\u001b[0m \u001b[0mcopy\u001b[0m\u001b[0;34m=\u001b[0m\u001b[0mcopy\u001b[0m\u001b[0;34m,\u001b[0m \u001b[0mtrack\u001b[0m\u001b[0;34m=\u001b[0m\u001b[0mtrack\u001b[0m\u001b[0;34m)\u001b[0m\u001b[0;34m]\u001b[0m\u001b[0;34m\u001b[0m\u001b[0;34m\u001b[0m\u001b[0m\n\u001b[0m\u001b[1;32m    471\u001b[0m         \u001b[0;31m# have first part already, only loop while more to receive\u001b[0m\u001b[0;34m\u001b[0m\u001b[0;34m\u001b[0m\u001b[0;34m\u001b[0m\u001b[0m\n",
      "\u001b[0;32mzmq/backend/cython/socket.pyx\u001b[0m in \u001b[0;36mzmq.backend.cython.socket.Socket.recv\u001b[0;34m()\u001b[0m\n",
      "\u001b[0;32mzmq/backend/cython/socket.pyx\u001b[0m in \u001b[0;36mzmq.backend.cython.socket.Socket.recv\u001b[0;34m()\u001b[0m\n",
      "\u001b[0;32mzmq/backend/cython/socket.pyx\u001b[0m in \u001b[0;36mzmq.backend.cython.socket._recv_copy\u001b[0;34m()\u001b[0m\n",
      "\u001b[0;32m/anaconda3/lib/python3.7/site-packages/zmq/backend/cython/checkrc.pxd\u001b[0m in \u001b[0;36mzmq.backend.cython.checkrc._check_rc\u001b[0;34m()\u001b[0m\n",
      "\u001b[0;31mKeyboardInterrupt\u001b[0m: ",
      "\nDuring handling of the above exception, another exception occurred:\n",
      "\u001b[0;31mKeyboardInterrupt\u001b[0m                         Traceback (most recent call last)",
      "\u001b[0;32m<ipython-input-370-56c9b474163b>\u001b[0m in \u001b[0;36m<module>\u001b[0;34m\u001b[0m\n\u001b[0;32m----> 1\u001b[0;31m \u001b[0mblackjack\u001b[0m\u001b[0;34m.\u001b[0m\u001b[0mplay_hand\u001b[0m\u001b[0;34m(\u001b[0m\u001b[0mbet\u001b[0m\u001b[0;34m=\u001b[0m\u001b[0;36m5\u001b[0m\u001b[0;34m)\u001b[0m\u001b[0;34m\u001b[0m\u001b[0;34m\u001b[0m\u001b[0m\n\u001b[0m",
      "\u001b[0;32m<ipython-input-367-00bd9f3aa2f8>\u001b[0m in \u001b[0;36mplay_hand\u001b[0;34m(self, bet)\u001b[0m\n\u001b[1;32m    133\u001b[0m                 \u001b[0;32melse\u001b[0m\u001b[0;34m:\u001b[0m\u001b[0;34m\u001b[0m\u001b[0;34m\u001b[0m\u001b[0m\n\u001b[1;32m    134\u001b[0m                     \u001b[0;31m# Player action\u001b[0m\u001b[0;34m\u001b[0m\u001b[0;34m\u001b[0m\u001b[0;34m\u001b[0m\u001b[0m\n\u001b[0;32m--> 135\u001b[0;31m                     \u001b[0mplayer_action\u001b[0m \u001b[0;34m=\u001b[0m \u001b[0mself\u001b[0m\u001b[0;34m.\u001b[0m\u001b[0mget_player_input\u001b[0m\u001b[0;34m(\u001b[0m\u001b[0mplayer\u001b[0m\u001b[0;34m=\u001b[0m\u001b[0mi\u001b[0m\u001b[0;34m+\u001b[0m\u001b[0;36m1\u001b[0m\u001b[0;34m)\u001b[0m\u001b[0;34m\u001b[0m\u001b[0;34m\u001b[0m\u001b[0m\n\u001b[0m\u001b[1;32m    136\u001b[0m \u001b[0;34m\u001b[0m\u001b[0m\n\u001b[1;32m    137\u001b[0m                     \u001b[0;32mif\u001b[0m \u001b[0mplayer_action\u001b[0m \u001b[0;34m==\u001b[0m \u001b[0;36m0\u001b[0m\u001b[0;34m:\u001b[0m  \u001b[0;31m# HIT\u001b[0m\u001b[0;34m\u001b[0m\u001b[0;34m\u001b[0m\u001b[0m\n",
      "\u001b[0;32m<ipython-input-367-00bd9f3aa2f8>\u001b[0m in \u001b[0;36mget_player_input\u001b[0;34m(self, player, human_player)\u001b[0m\n\u001b[1;32m     75\u001b[0m     \u001b[0;32mdef\u001b[0m \u001b[0mget_player_input\u001b[0m\u001b[0;34m(\u001b[0m\u001b[0mself\u001b[0m\u001b[0;34m,\u001b[0m \u001b[0mplayer\u001b[0m\u001b[0;34m,\u001b[0m \u001b[0mhuman_player\u001b[0m\u001b[0;34m=\u001b[0m\u001b[0;32mTrue\u001b[0m\u001b[0;34m)\u001b[0m\u001b[0;34m:\u001b[0m\u001b[0;34m\u001b[0m\u001b[0;34m\u001b[0m\u001b[0m\n\u001b[1;32m     76\u001b[0m         \u001b[0;32mif\u001b[0m \u001b[0mhuman_player\u001b[0m\u001b[0;34m:\u001b[0m\u001b[0;34m\u001b[0m\u001b[0;34m\u001b[0m\u001b[0m\n\u001b[0;32m---> 77\u001b[0;31m             \u001b[0mvalue\u001b[0m \u001b[0;34m=\u001b[0m \u001b[0minput\u001b[0m\u001b[0;34m(\u001b[0m\u001b[0;34m'Player {} what is is your move? (HIT, STAND, DD, SPLIT, SURR):  '\u001b[0m\u001b[0;34m.\u001b[0m\u001b[0mformat\u001b[0m\u001b[0;34m(\u001b[0m\u001b[0mplayer\u001b[0m\u001b[0;34m)\u001b[0m\u001b[0;34m)\u001b[0m\u001b[0;34m.\u001b[0m\u001b[0mupper\u001b[0m\u001b[0;34m(\u001b[0m\u001b[0;34m)\u001b[0m\u001b[0;34m\u001b[0m\u001b[0;34m\u001b[0m\u001b[0m\n\u001b[0m\u001b[1;32m     78\u001b[0m             \u001b[0mprint\u001b[0m\u001b[0;34m(\u001b[0m\u001b[0;34m'You have chosen to {}'\u001b[0m\u001b[0;34m.\u001b[0m\u001b[0mformat\u001b[0m\u001b[0;34m(\u001b[0m\u001b[0mvalue\u001b[0m\u001b[0;34m)\u001b[0m\u001b[0;34m)\u001b[0m\u001b[0;34m\u001b[0m\u001b[0;34m\u001b[0m\u001b[0m\n\u001b[1;32m     79\u001b[0m \u001b[0;34m\u001b[0m\u001b[0m\n",
      "\u001b[0;32m/anaconda3/lib/python3.7/site-packages/ipykernel/kernelbase.py\u001b[0m in \u001b[0;36mraw_input\u001b[0;34m(self, prompt)\u001b[0m\n\u001b[1;32m    851\u001b[0m             \u001b[0mself\u001b[0m\u001b[0;34m.\u001b[0m\u001b[0m_parent_ident\u001b[0m\u001b[0;34m,\u001b[0m\u001b[0;34m\u001b[0m\u001b[0;34m\u001b[0m\u001b[0m\n\u001b[1;32m    852\u001b[0m             \u001b[0mself\u001b[0m\u001b[0;34m.\u001b[0m\u001b[0m_parent_header\u001b[0m\u001b[0;34m,\u001b[0m\u001b[0;34m\u001b[0m\u001b[0;34m\u001b[0m\u001b[0m\n\u001b[0;32m--> 853\u001b[0;31m             \u001b[0mpassword\u001b[0m\u001b[0;34m=\u001b[0m\u001b[0;32mFalse\u001b[0m\u001b[0;34m,\u001b[0m\u001b[0;34m\u001b[0m\u001b[0;34m\u001b[0m\u001b[0m\n\u001b[0m\u001b[1;32m    854\u001b[0m         )\n\u001b[1;32m    855\u001b[0m \u001b[0;34m\u001b[0m\u001b[0m\n",
      "\u001b[0;32m/anaconda3/lib/python3.7/site-packages/ipykernel/kernelbase.py\u001b[0m in \u001b[0;36m_input_request\u001b[0;34m(self, prompt, ident, parent, password)\u001b[0m\n\u001b[1;32m    881\u001b[0m             \u001b[0;32mexcept\u001b[0m \u001b[0mKeyboardInterrupt\u001b[0m\u001b[0;34m:\u001b[0m\u001b[0;34m\u001b[0m\u001b[0;34m\u001b[0m\u001b[0m\n\u001b[1;32m    882\u001b[0m                 \u001b[0;31m# re-raise KeyboardInterrupt, to truncate traceback\u001b[0m\u001b[0;34m\u001b[0m\u001b[0;34m\u001b[0m\u001b[0;34m\u001b[0m\u001b[0m\n\u001b[0;32m--> 883\u001b[0;31m                 \u001b[0;32mraise\u001b[0m \u001b[0mKeyboardInterrupt\u001b[0m\u001b[0;34m\u001b[0m\u001b[0;34m\u001b[0m\u001b[0m\n\u001b[0m\u001b[1;32m    884\u001b[0m             \u001b[0;32melse\u001b[0m\u001b[0;34m:\u001b[0m\u001b[0;34m\u001b[0m\u001b[0;34m\u001b[0m\u001b[0m\n\u001b[1;32m    885\u001b[0m                 \u001b[0;32mbreak\u001b[0m\u001b[0;34m\u001b[0m\u001b[0;34m\u001b[0m\u001b[0m\n",
      "\u001b[0;31mKeyboardInterrupt\u001b[0m: "
     ]
    }
   ],
   "source": [
    "blackjack.play_hand(bet=5)"
   ]
  },
  {
   "cell_type": "code",
   "execution_count": null,
   "metadata": {},
   "outputs": [],
   "source": [
    "# Turn order\n",
    "# 1. Place your bet\n",
    "# 2. Dealer puts top card to discard pile if first card of deck IRRELEVANT but implement anyway in case it changes deck structure\n",
    "# 3. Dealer gives 1 card face up to every player from left to right\n",
    "# 4. Dealer gives 1 card to himself face up\n",
    "# 5. Dealer gives 2nd card to everyone face up\n",
    "# 6. Dealer gives 2nd card to himself face down\n",
    "# 7. Player chooses to Hit, Stand, Double Down, Split, Surrender (in some rulesets and only on first hand)\n",
    "# 8. Once you stand (or double down and get 1 more card)\n",
    "# Blackjack pays 3-2\n",
    "# If both get blackjack,usually a push (money back). But sometimes dealer always wins on tie! 2 card blackjack anyway\n",
    "\n",
    "\n",
    "# Double down can do up to 100%. Some games only 100%. You get 1 card then dealer goes\n",
    "# Can usually split face cards and 10 but some casinos allow only if identical face\n",
    "# Ace and 10 after split is counted as a non blackjack 21\n",
    "# Hitting split aces is usually not allowed\n",
    "# Sometimes a double after a split is not allowed\n",
    "# If the dealers face up card is an ace you can pay for insurance. Pay extra max of half current bet and paid out 2:1\n",
    "# if the dealer's 2nd card is a 10\n",
    "\n",
    "# Rule of whether dealer has to hit soft 17 (s17): ace and 16. Wikipedia says 0.2% in player's favour if they do\n",
    "# Tend to stand on hard 17 (h17)\n",
    "\n",
    "\n",
    "# More decks is more of a house advantage. Fewer decks is higher chance of player Blackjack. Lower chance of bj-bj\n"
   ]
  },
  {
   "cell_type": "code",
   "execution_count": null,
   "metadata": {},
   "outputs": [],
   "source": []
  },
  {
   "cell_type": "code",
   "execution_count": null,
   "metadata": {},
   "outputs": [],
   "source": []
  },
  {
   "cell_type": "code",
   "execution_count": 200,
   "metadata": {},
   "outputs": [],
   "source": [
    "blackjack.play_hand(bet=5)"
   ]
  },
  {
   "cell_type": "code",
   "execution_count": null,
   "metadata": {},
   "outputs": [],
   "source": []
  },
  {
   "cell_type": "code",
   "execution_count": null,
   "metadata": {},
   "outputs": [],
   "source": []
  },
  {
   "cell_type": "code",
   "execution_count": 190,
   "metadata": {},
   "outputs": [
    {
     "data": {
      "text/plain": [
       "17 29 33 18 5 8 27 7 31 33 6 39 51 44 47 36 45 3 35 24 34 43 34 10 19 10 42 46 49 22 11 1 41 18 21 44 27 43 17 0 48 20 44 42 38 2 26 32 19 15 40 8 15 22 16 48 36 49 13 14 36 50 10 24 0 3 34 12 13 50 37 39 7 35 28 37 4 23 5 23 28 9 50 46 6 32 35 17 6 42 16 21 43 45 25 40 20 13 9 23 24 22 27 1 2 0 45 41 41 1 19 26 7 4 2 25 16 47 51 30 31 40 49 12 11 4 39 32 11 3 15 20 8 29 47 14 31 38 30 18 12 28 9 26 38 5 33 29 21 25 48 30 14 37 51"
      ]
     },
     "execution_count": 190,
     "metadata": {},
     "output_type": "execute_result"
    }
   ],
   "source": [
    "blackjack.shuffle()\n",
    "blackjack\n"
   ]
  },
  {
   "cell_type": "code",
   "execution_count": 191,
   "metadata": {},
   "outputs": [
    {
     "data": {
      "text/plain": [
       "[46]"
      ]
     },
     "execution_count": 191,
     "metadata": {},
     "output_type": "execute_result"
    }
   ],
   "source": [
    "blackjack.deck_obj.discard_deck"
   ]
  },
  {
   "cell_type": "code",
   "execution_count": 184,
   "metadata": {},
   "outputs": [
    {
     "name": "stdout",
     "output_type": "stream",
     "text": [
      "Ace of Hearts\n",
      "2 of Hearts\n",
      "3 of Hearts\n",
      "4 of Hearts\n",
      "5 of Hearts\n",
      "6 of Hearts\n",
      "7 of Hearts\n",
      "8 of Hearts\n",
      "9 of Hearts\n",
      "10 of Hearts\n",
      "Jack of Hearts\n",
      "Queen of Hearts\n",
      "King of Hearts\n",
      "Ace of Diamonds\n",
      "2 of Diamonds\n",
      "3 of Diamonds\n",
      "4 of Diamonds\n",
      "5 of Diamonds\n",
      "6 of Diamonds\n",
      "7 of Diamonds\n",
      "8 of Diamonds\n",
      "9 of Diamonds\n",
      "10 of Diamonds\n",
      "Jack of Diamonds\n",
      "Queen of Diamonds\n",
      "King of Diamonds\n",
      "Ace of Clubs\n",
      "2 of Clubs\n",
      "3 of Clubs\n",
      "4 of Clubs\n",
      "5 of Clubs\n",
      "6 of Clubs\n",
      "7 of Clubs\n",
      "8 of Clubs\n",
      "9 of Clubs\n",
      "10 of Clubs\n",
      "Jack of Clubs\n",
      "Queen of Clubs\n",
      "King of Clubs\n",
      "Ace of Spades\n",
      "2 of Spades\n",
      "3 of Spades\n",
      "4 of Spades\n",
      "5 of Spades\n",
      "6 of Spades\n",
      "7 of Spades\n",
      "8 of Spades\n",
      "9 of Spades\n",
      "10 of Spades\n",
      "Jack of Spades\n",
      "Queen of Spades\n",
      "King of Spades\n"
     ]
    }
   ],
   "source": [
    "blackjack = Blackjack(num_of_decks=1)\n",
    "blackjack.display_deck()"
   ]
  },
  {
   "cell_type": "code",
   "execution_count": null,
   "metadata": {},
   "outputs": [],
   "source": []
  },
  {
   "cell_type": "code",
   "execution_count": null,
   "metadata": {},
   "outputs": [],
   "source": []
  },
  {
   "cell_type": "code",
   "execution_count": null,
   "metadata": {},
   "outputs": [],
   "source": []
  },
  {
   "cell_type": "code",
   "execution_count": null,
   "metadata": {},
   "outputs": [],
   "source": []
  },
  {
   "cell_type": "code",
   "execution_count": null,
   "metadata": {},
   "outputs": [],
   "source": []
  },
  {
   "cell_type": "code",
   "execution_count": null,
   "metadata": {},
   "outputs": [],
   "source": []
  },
  {
   "cell_type": "code",
   "execution_count": null,
   "metadata": {},
   "outputs": [],
   "source": []
  }
 ],
 "metadata": {
  "kernelspec": {
   "display_name": "Python 3",
   "language": "python",
   "name": "python3"
  }
 },
 "nbformat": 4,
 "nbformat_minor": 2
}
